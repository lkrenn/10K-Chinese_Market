{
 "cells": [
  {
   "cell_type": "markdown",
   "metadata": {},
   "source": [
    "# Cosine Similarity\n",
    "\n",
    "In this notebook, we will be constructing cosine similarity scores between documents for each company."
   ]
  },
  {
   "cell_type": "code",
   "execution_count": 98,
   "metadata": {},
   "outputs": [],
   "source": [
    "import numpy as np\n",
    "import pandas as pd\n",
    "import os\n",
    "from bs4 import BeautifulSoup\n",
    "import urllib\n",
    "\n",
    "import jieba"
   ]
  },
  {
   "cell_type": "markdown",
   "metadata": {},
   "source": [
    "We will be taking a list of stopwords used by the popular search engine, Baidu. The list can be found here: http://www.baiduguide.com/baidu-stopwords/\n",
    "\n",
    "The list was simply copied and pasted into a .txt file and will be cleaned locally in this notebook:"
   ]
  },
  {
   "cell_type": "code",
   "execution_count": 100,
   "metadata": {},
   "outputs": [],
   "source": [
    "# Open the copy/pasted text file\n",
    "with open('../data/stopwords/stopwords.txt', encoding='GB2312') as f:\n",
    "    text = f.readlines()"
   ]
  },
  {
   "cell_type": "code",
   "execution_count": 103,
   "metadata": {},
   "outputs": [],
   "source": [
    "# Remove newlines\n",
    "text = [x.replace('\\n','') for x in text]\n",
    "\n",
    "# Remove spaces\n",
    "text = [x.replace(' ','') for x in text]\n",
    "\n",
    "# Remove alphabet\n",
    "text = [x for x in text if not x.replace(' ','').isalpha()]\n",
    "\n",
    "# Split lines on commas\n",
    "text = [x.split(',') for x in text]"
   ]
  },
  {
   "cell_type": "code",
   "execution_count": 110,
   "metadata": {},
   "outputs": [],
   "source": [
    "# Put it all together into a single list\n",
    "stopwords = []\n",
    "for element in text:\n",
    "    stopwords += element"
   ]
  },
  {
   "cell_type": "code",
   "execution_count": 112,
   "metadata": {},
   "outputs": [
    {
     "data": {
      "text/plain": [
       "['儿', '亦', '了', '乎', '']"
      ]
     },
     "execution_count": 112,
     "metadata": {},
     "output_type": "execute_result"
    }
   ],
   "source": [
    "stopwords[-5:]"
   ]
  },
  {
   "cell_type": "markdown",
   "metadata": {},
   "source": []
  }
 ],
 "metadata": {
  "kernelspec": {
   "display_name": "Python 3",
   "language": "python",
   "name": "python3"
  },
  "language_info": {
   "codemirror_mode": {
    "name": "ipython",
    "version": 3
   },
   "file_extension": ".py",
   "mimetype": "text/x-python",
   "name": "python",
   "nbconvert_exporter": "python",
   "pygments_lexer": "ipython3",
   "version": "3.7.4"
  }
 },
 "nbformat": 4,
 "nbformat_minor": 2
}
