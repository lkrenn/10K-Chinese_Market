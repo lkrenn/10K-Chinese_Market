{
 "cells": [
  {
   "cell_type": "markdown",
   "metadata": {},
   "source": [
    "# Vanilla Signal\n",
    "\n",
    "In this notebook, we will be constructing an initial signal without controlling for sector or any other clustering that may occur with these companies."
   ]
  },
  {
   "cell_type": "code",
   "execution_count": 12,
   "metadata": {},
   "outputs": [],
   "source": [
    "import numpy as np\n",
    "import pandas as pd\n",
    "import pickle\n",
    "import os"
   ]
  },
  {
   "cell_type": "code",
   "execution_count": 13,
   "metadata": {},
   "outputs": [
    {
     "data": {
      "text/plain": [
       "['stopwords',\n",
       " '.DS_Store',\n",
       " 'returns.h5',\n",
       " '1-Returns_Data_Exploration.ipynb',\n",
       " 'Text_Tokenizer.ipynb',\n",
       " '3-Text_Embedding.ipynb',\n",
       " '.ipynb_checkpoints',\n",
       " 'sample_tokenized',\n",
       " 'alltokens.pickle',\n",
       " 'company_filings.pickle',\n",
       " '2-Text_Tokenizer.ipynb']"
      ]
     },
     "execution_count": 13,
     "metadata": {},
     "output_type": "execute_result"
    }
   ],
   "source": [
    "os.listdir('../1-data')"
   ]
  },
  {
   "cell_type": "code",
   "execution_count": 15,
   "metadata": {},
   "outputs": [],
   "source": [
    "with open('../1-data/company_filings.pickle', 'rb') as handle:\n",
    "    company_filings = pickle.load(handle)"
   ]
  },
  {
   "cell_type": "code",
   "execution_count": 20,
   "metadata": {},
   "outputs": [
    {
     "data": {
      "text/html": [
       "<div>\n",
       "<style scoped>\n",
       "    .dataframe tbody tr th:only-of-type {\n",
       "        vertical-align: middle;\n",
       "    }\n",
       "\n",
       "    .dataframe tbody tr th {\n",
       "        vertical-align: top;\n",
       "    }\n",
       "\n",
       "    .dataframe thead th {\n",
       "        text-align: right;\n",
       "    }\n",
       "</style>\n",
       "<table border=\"1\" class=\"dataframe\">\n",
       "  <thead>\n",
       "    <tr style=\"text-align: right;\">\n",
       "      <th></th>\n",
       "      <th>year</th>\n",
       "      <th>file</th>\n",
       "      <th>Cosine_Similarity</th>\n",
       "    </tr>\n",
       "  </thead>\n",
       "  <tbody>\n",
       "    <tr>\n",
       "      <th>500</th>\n",
       "      <td>2006</td>\n",
       "      <td>000782.SZ.txt</td>\n",
       "      <td>NaN</td>\n",
       "    </tr>\n",
       "    <tr>\n",
       "      <th>862</th>\n",
       "      <td>2007</td>\n",
       "      <td>000782.SZ.txt</td>\n",
       "      <td>NaN</td>\n",
       "    </tr>\n",
       "    <tr>\n",
       "      <th>1239</th>\n",
       "      <td>2008</td>\n",
       "      <td>000782.SZ.txt</td>\n",
       "      <td>NaN</td>\n",
       "    </tr>\n",
       "    <tr>\n",
       "      <th>1363</th>\n",
       "      <td>2009</td>\n",
       "      <td>000782.SZ.txt</td>\n",
       "      <td>NaN</td>\n",
       "    </tr>\n",
       "    <tr>\n",
       "      <th>1637</th>\n",
       "      <td>2010</td>\n",
       "      <td>000782.SZ.txt</td>\n",
       "      <td>0.996726</td>\n",
       "    </tr>\n",
       "    <tr>\n",
       "      <th>1817</th>\n",
       "      <td>2011</td>\n",
       "      <td>000782.SZ.txt</td>\n",
       "      <td>0.989403</td>\n",
       "    </tr>\n",
       "    <tr>\n",
       "      <th>1916</th>\n",
       "      <td>2012</td>\n",
       "      <td>000782.SZ.txt</td>\n",
       "      <td>0.964440</td>\n",
       "    </tr>\n",
       "    <tr>\n",
       "      <th>1378</th>\n",
       "      <td>2013</td>\n",
       "      <td>000782.SZ.txt</td>\n",
       "      <td>0.991539</td>\n",
       "    </tr>\n",
       "    <tr>\n",
       "      <th>2048</th>\n",
       "      <td>2014</td>\n",
       "      <td>000782.SZ.txt</td>\n",
       "      <td>0.976864</td>\n",
       "    </tr>\n",
       "    <tr>\n",
       "      <th>2200</th>\n",
       "      <td>2015</td>\n",
       "      <td>000782.SZ.txt</td>\n",
       "      <td>0.993328</td>\n",
       "    </tr>\n",
       "    <tr>\n",
       "      <th>2447</th>\n",
       "      <td>2016</td>\n",
       "      <td>000782.SZ.txt</td>\n",
       "      <td>0.994674</td>\n",
       "    </tr>\n",
       "  </tbody>\n",
       "</table>\n",
       "</div>"
      ],
      "text/plain": [
       "      year           file  Cosine_Similarity\n",
       "500   2006  000782.SZ.txt                NaN\n",
       "862   2007  000782.SZ.txt                NaN\n",
       "1239  2008  000782.SZ.txt                NaN\n",
       "1363  2009  000782.SZ.txt                NaN\n",
       "1637  2010  000782.SZ.txt           0.996726\n",
       "1817  2011  000782.SZ.txt           0.989403\n",
       "1916  2012  000782.SZ.txt           0.964440\n",
       "1378  2013  000782.SZ.txt           0.991539\n",
       "2048  2014  000782.SZ.txt           0.976864\n",
       "2200  2015  000782.SZ.txt           0.993328\n",
       "2447  2016  000782.SZ.txt           0.994674"
      ]
     },
     "execution_count": 20,
     "metadata": {},
     "output_type": "execute_result"
    }
   ],
   "source": [
    "company_filings[list(company_filings.keys())[0]]"
   ]
  },
  {
   "cell_type": "markdown",
   "metadata": {},
   "source": [
    "There seems to be reports that contain cid instead of a chinese character. This is something I will need to fix. "
   ]
  },
  {
   "cell_type": "code",
   "execution_count": null,
   "metadata": {},
   "outputs": [],
   "source": []
  }
 ],
 "metadata": {
  "kernelspec": {
   "display_name": "Python 3",
   "language": "python",
   "name": "python3"
  },
  "language_info": {
   "codemirror_mode": {
    "name": "ipython",
    "version": 3
   },
   "file_extension": ".py",
   "mimetype": "text/x-python",
   "name": "python",
   "nbconvert_exporter": "python",
   "pygments_lexer": "ipython3",
   "version": "3.7.4"
  }
 },
 "nbformat": 4,
 "nbformat_minor": 2
}
